{
  "cells": [
    {
      "cell_type": "code",
      "execution_count": null,
      "metadata": {
        "id": "H97aLfuqF7jG"
      },
      "outputs": [],
      "source": [
        "# Install library tambahan jika diperlukan\n",
        "!pip install scikit-learn pandas matplotlib numpy dask\n",
        "\n",
        "# Import library\n",
        "import dask.dataframe as dd\n",
        "import pandas as pd\n",
        "import numpy as np\n",
        "import matplotlib.pyplot as plt\n",
        "from sklearn.preprocessing import StandardScaler\n",
        "from sklearn.decomposition import PCA\n",
        "from sklearn.cluster import KMeans\n",
        "from sklearn.metrics import silhouette_score, davies_bouldin_score, calinski_harabasz_score\n",
        "\n",
        "# Upload file CSV\n",
        "from google.colab import files\n",
        "uploaded = files.upload()"
      ]
    },
    {
      "cell_type": "code",
      "source": [
        "# Membaca data dari file CSV menggunakan Dask\n",
        "file_name = list(uploaded.keys())[0]\n",
        "data = dd.read_csv(file_name)"
      ],
      "metadata": {
        "id": "1UDfchZ_qdTa"
      },
      "execution_count": null,
      "outputs": []
    },
    {
      "cell_type": "code",
      "source": [
        "# Target kolom yang akan digunakan\n",
        "target_columns = ['pH', 'CHLA', 'TDS', 'EC', 'TSS']\n",
        "data = data[target_columns]\n",
        "\n",
        "# Mengetahui jumlah nilai null per kolom\n",
        "null_counts = data.isna().sum().compute()\n",
        "print(\"Jumlah nilai null awal pada setiap kolom:\")\n",
        "print(null_counts)\n",
        "print(\"-\" * 50)\n",
        "\n",
        "# Mengisi nilai NaN dengan median (menggunakan Dask)\n",
        "data = data.fillna(data.median().compute())\n",
        "\n",
        "# Memastikan tidak ada nilai null setelah pengisian\n",
        "null_counts_after = data.isna().sum().compute()\n",
        "print(\"Jumlah nilai null setelah pengisian:\")\n",
        "print(null_counts_after)\n",
        "print(\"-\" * 50)\n",
        "\n",
        "# Mengonversi ke Pandas untuk kompatibilitas dengan Scikit-learn\n",
        "data = data.compute()\n",
        "\n",
        "# Standarisasi data\n",
        "scaler = StandardScaler()\n",
        "scaled_data = scaler.fit_transform(data)"
      ],
      "metadata": {
        "id": "0dh4icxq0V7l"
      },
      "execution_count": null,
      "outputs": []
    },
    {
      "cell_type": "code",
      "source": [
        "# Ringkasan statistik deskriptif\n",
        "print(data.describe())"
      ],
      "metadata": {
        "id": "ytgwGeOPmykx"
      },
      "execution_count": null,
      "outputs": []
    },
    {
      "cell_type": "code",
      "source": [
        "import pandas as pd\n",
        "\n",
        "# Definisikan nilai Si dan V_ideal untuk masing-masing parameter\n",
        "parameter_info = {\n",
        "    'pH':       {'Si': 8.5,  'V_ideal': 7},\n",
        "    'TDS':      {'Si': 1000, 'V_ideal': 0},\n",
        "    'TSS':      {'Si': 50, 'V_ideal': 0},\n",
        "    'CHLA':    {'Si': 0.04, 'V_ideal': 0},\n",
        "    'EC':      {'Si': 300,    'V_ideal': 0},\n",
        "}\n",
        "\n",
        "# Hitung K (konstanta proporsionalitas)\n",
        "K = 1 / sum(1 / parameter_info[param]['Si'] for param in parameter_info)\n",
        "\n",
        "# Hitung Wi untuk masing-masing parameter\n",
        "Wi = {param: K / parameter_info[param]['Si'] for param in parameter_info}\n",
        "\n",
        "# Tampilkan nilai K\n",
        "print(\"Nilai K (konstanta proporsionalitas):\")\n",
        "print(K)\n",
        "print(\"-\" * 50)\n",
        "\n",
        "# Tampilkan nilai Wi untuk tiap parameter\n",
        "print(\"Bobot Wi untuk setiap parameter:\")\n",
        "for param, wi in Wi.items():\n",
        "    print(f\"{param}: {wi}\")\n",
        "print(\"-\" * 50)\n",
        "\n",
        "# Hitung dan tampilkan total Wi\n",
        "Wi_total_sum = sum(Wi.values())\n",
        "print(\"Total Wi (jumlah seluruh bobot):\")\n",
        "print(Wi_total_sum)\n",
        "print(\"-\" * 50)\n",
        "\n",
        "# Fungsi hitung AW-WQI per baris/grid\n",
        "def hitung_aw_wqi(baris):\n",
        "    Qi_Wi_total = 0\n",
        "    Wi_total = 0\n",
        "    for param in parameter_info:\n",
        "        Vi = baris[param]\n",
        "        Si = parameter_info[param]['Si']\n",
        "        V_ideal = parameter_info[param]['V_ideal']\n",
        "        Qi = abs((Vi - V_ideal) / (Si - V_ideal)) * 100\n",
        "        Qi_Wi = Qi * Wi[param]\n",
        "        Qi_Wi_total += Qi_Wi\n",
        "        Wi_total += Wi[param]\n",
        "    return Qi_Wi_total / Wi_total\n",
        "\n",
        "# Hitung AW-WQI untuk semua grid\n",
        "data['AW_WQI'] = data.apply(hitung_aw_wqi, axis=1)\n",
        "\n",
        "# Fungsi klasifikasi\n",
        "def klasifikasi_aw_wqi(nilai):\n",
        "    if nilai <= 25:\n",
        "        return \"Sangat Baik\"\n",
        "    elif nilai <= 50:\n",
        "        return \"Baik\"\n",
        "    elif nilai <= 75:\n",
        "        return \"Buruk\"\n",
        "    elif nilai <= 100:\n",
        "        return \"Sangat Buruk\"\n",
        "    else:\n",
        "        return \"Tidak layak untuk dikonsumsi\"\n",
        "\n",
        "# Tambahkan kolom klasifikasi\n",
        "data['Kualitas_Air'] = data['AW_WQI'].apply(klasifikasi_aw_wqi)\n",
        "\n",
        "# Tampilkan hasil\n",
        "print(data[['AW_WQI', 'Kualitas_Air']])\n"
      ],
      "metadata": {
        "id": "KUby_BGT4_sk"
      },
      "execution_count": null,
      "outputs": []
    },
    {
      "cell_type": "code",
      "source": [
        "# Simpan hasil ke file Excel\n",
        "data.to_excel('hasil_aw_wqi.xlsx', index=False)\n",
        "\n",
        "# Hitung jumlah tiap kategori kualitas air\n",
        "rekap = data['Kualitas_Air'].value_counts().reset_index()\n",
        "rekap.columns = ['Kategori', 'Jumlah']\n",
        "\n",
        "# Tampilkan rekap di terminal\n",
        "print(\"\\nRekap Kategori Kualitas Air:\")\n",
        "print(rekap.to_string(index=False))\n"
      ],
      "metadata": {
        "id": "-1DMyqFn8y1o"
      },
      "execution_count": null,
      "outputs": []
    },
    {
      "cell_type": "code",
      "source": [
        "import matplotlib.pyplot as plt\n",
        "import numpy as np\n",
        "\n",
        "# Target kolom parameter\n",
        "target_columns = ['pH', 'TSS', 'TDS', 'CHLA', 'EC']\n",
        "\n",
        "# Normalisasi (min-max scaling per parameter ke skala 0-1) di seluruh data\n",
        "param_min = data[target_columns].min()\n",
        "param_max = data[target_columns].max()\n",
        "\n",
        "data_norm = data.copy()\n",
        "data_norm[target_columns] = (data_norm[target_columns] - param_min) / (param_max - param_min)\n",
        "\n",
        "# Hitung rata-rata tiap parameter per kategori Kualitas_Air setelah normalisasi\n",
        "kategori_avg_norm = data_norm.groupby('Kualitas_Air')[target_columns].mean()\n",
        "\n",
        "# Urutan kategori custom biar konsisten\n",
        "urutan_kategori = ['Sangat Baik', 'Baik', 'Buruk', 'Sangat Buruk', 'Tidak layak untuk dikonsumsi']\n",
        "kategori_avg_norm = kategori_avg_norm.reindex(urutan_kategori)\n",
        "\n",
        "# Tampilkan nilai normalisasi per kategori\n",
        "print(\"\\nNilai Normalisasi (0-1) Rata-rata Tiap Kategori (Standarisasi Dulu Baru Rata-rata):\\n\")\n",
        "print(kategori_avg_norm)\n",
        "\n",
        "# Radar chart per kategori\n",
        "labels = target_columns\n",
        "num_vars = len(labels)\n",
        "angles = np.linspace(0, 2 * np.pi, num_vars, endpoint=False).tolist()\n",
        "angles += angles[:1]\n",
        "\n",
        "# Plot radar chart tiap kategori\n",
        "for kategori in kategori_avg_norm.index:\n",
        "    values = kategori_avg_norm.loc[kategori].tolist()\n",
        "    values += values[:1]\n",
        "\n",
        "    fig, ax = plt.subplots(figsize=(6,6), subplot_kw=dict(polar=True))\n",
        "\n",
        "    ax.plot(angles, values, linewidth=2, label=f'Kategori: {kategori}')\n",
        "    ax.fill(angles, values, alpha=0.25)\n",
        "\n",
        "    ax.set_xticks(angles[:-1])\n",
        "    ax.set_xticklabels(labels)\n",
        "    ax.set_yticklabels([])  # biar clean\n",
        "    ax.set_title(f'Radar Chart Parameter (Normalisasi) - {kategori}', size=14, y=1.1)\n",
        "    ax.legend(loc='upper right', bbox_to_anchor=(1.3, 1.1))\n",
        "\n",
        "    plt.show()\n"
      ],
      "metadata": {
        "id": "d2VuJJvqoRbJ"
      },
      "execution_count": null,
      "outputs": []
    },
    {
      "cell_type": "code",
      "source": [
        "# Tentukan urutan kategori\n",
        "urutan_kategori = ['Sangat Baik', 'Baik', 'Buruk', 'Sangat Buruk', 'Tidak layak untuk dikonsumsi']\n",
        "\n",
        "# Susun ulang index dataframe hasil normalisasi sesuai urutan tersebut\n",
        "kategori_avg_norm = kategori_avg_norm.reindex(urutan_kategori)\n",
        "\n",
        "# Tampilkan nilai setelah diurutkan\n",
        "print(\"\\nNilai Normalisasi (0-1) Rata-rata Tiap Kategori (Urut Custom):\\n\")\n",
        "print(kategori_avg_norm)\n",
        "\n",
        "# Radar chart\n",
        "labels = target_columns\n",
        "num_vars = len(labels)\n",
        "angles = np.linspace(0, 2 * np.pi, num_vars, endpoint=False).tolist()\n",
        "angles += angles[:1]  # tutup lingkaran\n",
        "\n",
        "fig, ax = plt.subplots(figsize=(8,8), subplot_kw=dict(polar=True))\n",
        "\n",
        "# Warna untuk tiap kategori\n",
        "colors = ['#2ca02c', '#1f77b4', '#9467bd', '#ff7f0e', '#d62728']\n",
        "\n",
        "# Plot tiap kategori\n",
        "for idx, kategori in enumerate(kategori_avg_norm.index):\n",
        "    values = kategori_avg_norm.loc[kategori].tolist()\n",
        "    values += values[:1]\n",
        "    ax.plot(angles, values, linewidth=2, label=f'{kategori}', color=colors[idx % len(colors)])\n",
        "    ax.fill(angles, values, alpha=0.25, color=colors[idx % len(colors)])\n",
        "\n",
        "# Set sumbu & label\n",
        "ax.set_xticks(angles[:-1])\n",
        "ax.set_xticklabels(labels, fontsize=12)\n",
        "ax.set_yticklabels([])  # biar lebih clean\n",
        "ax.legend(loc='upper right', bbox_to_anchor=(1.3, 1.1))\n",
        "\n",
        "plt.show()\n"
      ],
      "metadata": {
        "id": "PLj9vxZFowej"
      },
      "execution_count": null,
      "outputs": []
    },
    {
      "cell_type": "code",
      "source": [
        "data['Kualitas_Air'] = data['AW_WQI'].apply(klasifikasi_aw_wqi)"
      ],
      "metadata": {
        "id": "LBf7sneLD84l"
      },
      "execution_count": null,
      "outputs": []
    },
    {
      "cell_type": "code",
      "source": [
        "import pandas as pd\n",
        "\n",
        "data['Kualitas_Air'] = data['AW_WQI'].apply(klasifikasi_aw_wqi)\n",
        "\n",
        "# Menyimpan DataFrame ke dalam file CSV\n",
        "data.to_csv('data_airsungai.csv', index=False)"
      ],
      "metadata": {
        "id": "reP7pTkDEBWS"
      },
      "execution_count": null,
      "outputs": []
    },
    {
      "cell_type": "code",
      "source": [
        "from google.colab import files\n",
        "\n",
        "# Simpan file ke format CSV\n",
        "data.to_csv('data_airsungai.csv', index=False)\n",
        "\n",
        "# Menyediakan file untuk di-download\n",
        "files.download('data_airsungai.csv')\n"
      ],
      "metadata": {
        "id": "vzBaMDoHFiL2"
      },
      "execution_count": null,
      "outputs": []
    }
  ],
  "metadata": {
    "colab": {
      "provenance": []
    },
    "kernelspec": {
      "display_name": "Python 3",
      "name": "python3"
    },
    "language_info": {
      "name": "python"
    }
  },
  "nbformat": 4,
  "nbformat_minor": 0
}